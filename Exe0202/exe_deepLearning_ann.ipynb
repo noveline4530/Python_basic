{
 "cells": [
  {
   "cell_type": "code",
   "execution_count": 1,
   "metadata": {
    "colab": {},
    "colab_type": "code",
    "id": "FoWRkGM5V5Y2"
   },
   "outputs": [],
   "source": [
    "## tensorflow, keras(프랑스-google) :\n",
    "## pytorch(facebook)\n",
    "# pip install tensorflow\n",
    "# pip install keras"
   ]
  },
  {
   "cell_type": "code",
   "execution_count": 2,
   "metadata": {
    "colab": {
     "base_uri": "https://localhost:8080/",
     "height": 34
    },
    "colab_type": "code",
    "executionInfo": {
     "elapsed": 2141,
     "status": "ok",
     "timestamp": 1549096790234,
     "user": {
      "displayName": "Seok Jun Kim",
      "photoUrl": "",
      "userId": "04630978059815326870"
     },
     "user_tz": -540
    },
    "id": "RAnPwgQlW61g",
    "outputId": "2b723a85-2f2c-4197-a40f-fcae6c44d265"
   },
   "outputs": [
    {
     "name": "stderr",
     "output_type": "stream",
     "text": [
      "C:\\ProgramData\\Anaconda3\\lib\\site-packages\\h5py\\__init__.py:36: FutureWarning: Conversion of the second argument of issubdtype from `float` to `np.floating` is deprecated. In future, it will be treated as `np.float64 == np.dtype(float).type`.\n",
      "  from ._conv import register_converters as _register_converters\n",
      "Using TensorFlow backend.\n"
     ]
    }
   ],
   "source": [
    "from keras.datasets import mnist\n",
    "from keras.utils import np_utils"
   ]
  },
  {
   "cell_type": "code",
   "execution_count": 3,
   "metadata": {
    "colab": {},
    "colab_type": "code",
    "id": "X6J-7EUOXSAR"
   },
   "outputs": [],
   "source": [
    "import numpy\n",
    "import sys\n",
    "import tensorflow as tf"
   ]
  },
  {
   "cell_type": "code",
   "execution_count": 4,
   "metadata": {
    "colab": {},
    "colab_type": "code",
    "id": "QZ2gfOTkXdoo"
   },
   "outputs": [],
   "source": [
    "seed = 0\n",
    "numpy.random.seed(seed)\n",
    "tf.set_random_seed(seed)"
   ]
  },
  {
   "cell_type": "code",
   "execution_count": 5,
   "metadata": {
    "colab": {
     "base_uri": "https://localhost:8080/",
     "height": 52
    },
    "colab_type": "code",
    "executionInfo": {
     "elapsed": 1286,
     "status": "ok",
     "timestamp": 1549097122253,
     "user": {
      "displayName": "Seok Jun Kim",
      "photoUrl": "",
      "userId": "04630978059815326870"
     },
     "user_tz": -540
    },
    "id": "28uViJwDXtnu",
    "outputId": "db6fc533-7cc8-4996-a19c-0b6d31147761"
   },
   "outputs": [
    {
     "name": "stdout",
     "output_type": "stream",
     "text": [
      "Downloading data from https://s3.amazonaws.com/img-datasets/mnist.npz\n",
      "11493376/11490434 [==============================] - 17s 1us/step\n"
     ]
    }
   ],
   "source": [
    "(X_train, Y_train), (X_test, Y_test) = mnist.load_data()"
   ]
  },
  {
   "cell_type": "code",
   "execution_count": 6,
   "metadata": {
    "colab": {
     "base_uri": "https://localhost:8080/",
     "height": 52
    },
    "colab_type": "code",
    "executionInfo": {
     "elapsed": 919,
     "status": "ok",
     "timestamp": 1549097221855,
     "user": {
      "displayName": "Seok Jun Kim",
      "photoUrl": "",
      "userId": "04630978059815326870"
     },
     "user_tz": -540
    },
    "id": "0z3utqqFYjRg",
    "outputId": "a821cef2-70ef-4b92-9400-b63d2c934e57"
   },
   "outputs": [
    {
     "name": "stdout",
     "output_type": "stream",
     "text": [
      "(60000, 28, 28)\n",
      "(60000,)\n"
     ]
    }
   ],
   "source": [
    "print(X_train.shape) # 공부시킬 데이터의 문제(이미지 정보)-1개 이미지당 784개 정보\n",
    "print(Y_train.shape) # 공부시킬 데이터의 답(숫자 정보)-1개 이미지당 숫자 값"
   ]
  },
  {
   "cell_type": "code",
   "execution_count": 7,
   "metadata": {
    "colab": {
     "base_uri": "https://localhost:8080/",
     "height": 52
    },
    "colab_type": "code",
    "executionInfo": {
     "elapsed": 606,
     "status": "ok",
     "timestamp": 1549097261993,
     "user": {
      "displayName": "Seok Jun Kim",
      "photoUrl": "",
      "userId": "04630978059815326870"
     },
     "user_tz": -540
    },
    "id": "Q0gtafk-YrlX",
    "outputId": "90cdcfd7-9a74-4a15-ec26-bc03b9ec5f2f"
   },
   "outputs": [
    {
     "name": "stdout",
     "output_type": "stream",
     "text": [
      "(10000, 28, 28)\n",
      "(10000,)\n"
     ]
    }
   ],
   "source": [
    "print(X_test.shape)\n",
    "print(Y_test.shape)"
   ]
  },
  {
   "cell_type": "code",
   "execution_count": 8,
   "metadata": {
    "colab": {},
    "colab_type": "code",
    "id": "eD8oLgrXZFjj"
   },
   "outputs": [],
   "source": [
    "import matplotlib.pyplot as plt"
   ]
  },
  {
   "cell_type": "code",
   "execution_count": 9,
   "metadata": {
    "colab": {
     "base_uri": "https://localhost:8080/",
     "height": 699
    },
    "colab_type": "code",
    "executionInfo": {
     "elapsed": 2597,
     "status": "ok",
     "timestamp": 1549097633184,
     "user": {
      "displayName": "Seok Jun Kim",
      "photoUrl": "",
      "userId": "04630978059815326870"
     },
     "user_tz": -540
    },
    "id": "kzh4LT7NZKVU",
    "outputId": "1812a7dd-324a-4c86-ee87-8d9759570e06"
   },
   "outputs": [
    {
     "name": "stdout",
     "output_type": "stream",
     "text": [
      "label=[5 0 4 1 9 2 1 3 1 4 3 5 3 6 1]\n"
     ]
    },
    {
     "data": {
      "image/png": "[encoded data removed]",
      "text/plain": [
       "<Figure size 1296x864 with 15 Axes>"
      ]
     },
     "metadata": {},
     "output_type": "display_data"
    }
   ],
   "source": [
    "figure, axes = plt.subplots(nrows=3, ncols=5)\n",
    "figure.set_size_inches(18,12)\n",
    "\n",
    "plt.gray()\n",
    "print(\"label={}\".format(Y_train[0:15]))\n",
    "\n",
    "col=0 \n",
    "for row in range(0,3):\n",
    "  col = row * 5\n",
    "  axes[row][0].matshow(X_train[col])\n",
    "  axes[row][1].matshow(X_train[col+1])\n",
    "  axes[row][2].matshow(X_train[col+2])    \n",
    "  axes[row][3].matshow(X_train[col+3])\n",
    "  axes[row][4].matshow(X_train[col+4])"
   ]
  },
  {
   "cell_type": "code",
   "execution_count": 10,
   "metadata": {
    "colab": {
     "base_uri": "https://localhost:8080/",
     "height": 34
    },
    "colab_type": "code",
    "executionInfo": {
     "elapsed": 584,
     "status": "ok",
     "timestamp": 1549097951836,
     "user": {
      "displayName": "Seok Jun Kim",
      "photoUrl": "",
      "userId": "04630978059815326870"
     },
     "user_tz": -540
    },
    "id": "sMnrrYdMZb9u",
    "outputId": "f9e1efa5-5ef2-413b-ac46-3a8e6f7e8af2"
   },
   "outputs": [
    {
     "data": {
      "text/plain": [
       "(60000, 28, 28)"
      ]
     },
     "execution_count": 10,
     "metadata": {},
     "output_type": "execute_result"
    }
   ],
   "source": [
    "X_train.shape"
   ]
  },
  {
   "cell_type": "code",
   "execution_count": 11,
   "metadata": {
    "colab": {},
    "colab_type": "code",
    "id": "rTnPcFpNbt-v"
   },
   "outputs": [],
   "source": [
    "X_train = X_train.reshape(X_train.shape[0], 784) # (60000,28,28) => (60000,784)\n",
    "X_train.astype('float64')\n",
    "X_train = X_train/255\n"
   ]
  },
  {
   "cell_type": "code",
   "execution_count": 12,
   "metadata": {
    "colab": {
     "base_uri": "https://localhost:8080/",
     "height": 34
    },
    "colab_type": "code",
    "executionInfo": {
     "elapsed": 661,
     "status": "ok",
     "timestamp": 1549098094333,
     "user": {
      "displayName": "Seok Jun Kim",
      "photoUrl": "",
      "userId": "04630978059815326870"
     },
     "user_tz": -540
    },
    "id": "ZCynXiI9b8kt",
    "outputId": "baf5bdfa-0113-420c-a824-6bd2fb6b795f"
   },
   "outputs": [
    {
     "data": {
      "text/plain": [
       "(60000, 784)"
      ]
     },
     "execution_count": 12,
     "metadata": {},
     "output_type": "execute_result"
    }
   ],
   "source": [
    "X_train.shape"
   ]
  },
  {
   "cell_type": "code",
   "execution_count": 13,
   "metadata": {
    "colab": {
     "base_uri": "https://localhost:8080/",
     "height": 2322
    },
    "colab_type": "code",
    "executionInfo": {
     "elapsed": 1063,
     "status": "ok",
     "timestamp": 1549098187688,
     "user": {
      "displayName": "Seok Jun Kim",
      "photoUrl": "",
      "userId": "04630978059815326870"
     },
     "user_tz": -540
    },
    "id": "HHtu9qYhb_QS",
    "outputId": "69cecf1c-b705-4cc0-dcd1-a4ae7d877785"
   },
   "outputs": [
    {
     "name": "stdout",
     "output_type": "stream",
     "text": [
      "[0.         0.         0.         0.         0.         0.\n",
      " 0.         0.         0.         0.         0.         0.\n",
      " 0.         0.         0.         0.         0.         0.\n",
      " 0.         0.         0.         0.         0.         0.\n",
      " 0.         0.         0.         0.         0.         0.\n",
      " 0.         0.         0.         0.         0.         0.\n",
      " 0.         0.         0.         0.         0.         0.\n",
      " 0.         0.         0.         0.         0.         0.\n",
      " 0.         0.         0.         0.         0.         0.\n",
      " 0.         0.         0.         0.         0.         0.\n",
      " 0.         0.         0.         0.         0.         0.\n",
      " 0.         0.         0.         0.         0.         0.\n",
      " 0.         0.         0.         0.         0.         0.\n",
      " 0.         0.         0.         0.         0.         0.\n",
      " 0.         0.         0.         0.         0.         0.\n",
      " 0.         0.         0.         0.         0.         0.\n",
      " 0.         0.         0.         0.         0.         0.\n",
      " 0.         0.         0.         0.         0.         0.\n",
      " 0.         0.         0.         0.         0.         0.\n",
      " 0.         0.         0.         0.         0.         0.\n",
      " 0.         0.         0.         0.         0.         0.\n",
      " 0.         0.         0.         0.         0.         0.\n",
      " 0.         0.         0.         0.         0.         0.\n",
      " 0.         0.         0.         0.         0.         0.\n",
      " 0.         0.         0.         0.         0.         0.\n",
      " 0.         0.         0.01176471 0.07058824 0.07058824 0.07058824\n",
      " 0.49411765 0.53333333 0.68627451 0.10196078 0.65098039 1.\n",
      " 0.96862745 0.49803922 0.         0.         0.         0.\n",
      " 0.         0.         0.         0.         0.         0.\n",
      " 0.         0.         0.11764706 0.14117647 0.36862745 0.60392157\n",
      " 0.66666667 0.99215686 0.99215686 0.99215686 0.99215686 0.99215686\n",
      " 0.88235294 0.6745098  0.99215686 0.94901961 0.76470588 0.25098039\n",
      " 0.         0.         0.         0.         0.         0.\n",
      " 0.         0.         0.         0.         0.         0.19215686\n",
      " 0.93333333 0.99215686 0.99215686 0.99215686 0.99215686 0.99215686\n",
      " 0.99215686 0.99215686 0.99215686 0.98431373 0.36470588 0.32156863\n",
      " 0.32156863 0.21960784 0.15294118 0.         0.         0.\n",
      " 0.         0.         0.         0.         0.         0.\n",
      " 0.         0.         0.         0.07058824 0.85882353 0.99215686\n",
      " 0.99215686 0.99215686 0.99215686 0.99215686 0.77647059 0.71372549\n",
      " 0.96862745 0.94509804 0.         0.         0.         0.\n",
      " 0.         0.         0.         0.         0.         0.\n",
      " 0.         0.         0.         0.         0.         0.\n",
      " 0.         0.         0.31372549 0.61176471 0.41960784 0.99215686\n",
      " 0.99215686 0.80392157 0.04313725 0.         0.16862745 0.60392157\n",
      " 0.         0.         0.         0.         0.         0.\n",
      " 0.         0.         0.         0.         0.         0.\n",
      " 0.         0.         0.         0.         0.         0.\n",
      " 0.         0.05490196 0.00392157 0.60392157 0.99215686 0.35294118\n",
      " 0.         0.         0.         0.         0.         0.\n",
      " 0.         0.         0.         0.         0.         0.\n",
      " 0.         0.         0.         0.         0.         0.\n",
      " 0.         0.         0.         0.         0.         0.\n",
      " 0.         0.54509804 0.99215686 0.74509804 0.00784314 0.\n",
      " 0.         0.         0.         0.         0.         0.\n",
      " 0.         0.         0.         0.         0.         0.\n",
      " 0.         0.         0.         0.         0.         0.\n",
      " 0.         0.         0.         0.         0.         0.04313725\n",
      " 0.74509804 0.99215686 0.2745098  0.         0.         0.\n",
      " 0.         0.         0.         0.         0.         0.\n",
      " 0.         0.         0.         0.         0.         0.\n",
      " 0.         0.         0.         0.         0.         0.\n",
      " 0.         0.         0.         0.         0.1372549  0.94509804\n",
      " 0.88235294 0.62745098 0.42352941 0.00392157 0.         0.\n",
      " 0.         0.         0.         0.         0.         0.\n",
      " 0.         0.         0.         0.         0.         0.\n",
      " 0.         0.         0.         0.         0.         0.\n",
      " 0.         0.         0.         0.31764706 0.94117647 0.99215686\n",
      " 0.99215686 0.46666667 0.09803922 0.         0.         0.\n",
      " 0.         0.         0.         0.         0.         0.\n",
      " 0.         0.         0.         0.         0.         0.\n",
      " 0.         0.         0.         0.         0.         0.\n",
      " 0.         0.         0.17647059 0.72941176 0.99215686 0.99215686\n",
      " 0.58823529 0.10588235 0.         0.         0.         0.\n",
      " 0.         0.         0.         0.         0.         0.\n",
      " 0.         0.         0.         0.         0.         0.\n",
      " 0.         0.         0.         0.         0.         0.\n",
      " 0.         0.0627451  0.36470588 0.98823529 0.99215686 0.73333333\n",
      " 0.         0.         0.         0.         0.         0.\n",
      " 0.         0.         0.         0.         0.         0.\n",
      " 0.         0.         0.         0.         0.         0.\n",
      " 0.         0.         0.         0.         0.         0.\n",
      " 0.         0.97647059 0.99215686 0.97647059 0.25098039 0.\n",
      " 0.         0.         0.         0.         0.         0.\n",
      " 0.         0.         0.         0.         0.         0.\n",
      " 0.         0.         0.         0.         0.         0.\n",
      " 0.         0.         0.18039216 0.50980392 0.71764706 0.99215686\n",
      " 0.99215686 0.81176471 0.00784314 0.         0.         0.\n",
      " 0.         0.         0.         0.         0.         0.\n",
      " 0.         0.         0.         0.         0.         0.\n",
      " 0.         0.         0.         0.         0.15294118 0.58039216\n",
      " 0.89803922 0.99215686 0.99215686 0.99215686 0.98039216 0.71372549\n",
      " 0.         0.         0.         0.         0.         0.\n",
      " 0.         0.         0.         0.         0.         0.\n",
      " 0.         0.         0.         0.         0.         0.\n",
      " 0.09411765 0.44705882 0.86666667 0.99215686 0.99215686 0.99215686\n",
      " 0.99215686 0.78823529 0.30588235 0.         0.         0.\n",
      " 0.         0.         0.         0.         0.         0.\n",
      " 0.         0.         0.         0.         0.         0.\n",
      " 0.         0.         0.09019608 0.25882353 0.83529412 0.99215686\n",
      " 0.99215686 0.99215686 0.99215686 0.77647059 0.31764706 0.00784314\n",
      " 0.         0.         0.         0.         0.         0.\n",
      " 0.         0.         0.         0.         0.         0.\n",
      " 0.         0.         0.         0.         0.07058824 0.67058824\n",
      " 0.85882353 0.99215686 0.99215686 0.99215686 0.99215686 0.76470588\n",
      " 0.31372549 0.03529412 0.         0.         0.         0.\n",
      " 0.         0.         0.         0.         0.         0.\n",
      " 0.         0.         0.         0.         0.         0.\n",
      " 0.21568627 0.6745098  0.88627451 0.99215686 0.99215686 0.99215686\n",
      " 0.99215686 0.95686275 0.52156863 0.04313725 0.         0.\n",
      " 0.         0.         0.         0.         0.         0.\n",
      " 0.         0.         0.         0.         0.         0.\n",
      " 0.         0.         0.         0.         0.53333333 0.99215686\n",
      " 0.99215686 0.99215686 0.83137255 0.52941176 0.51764706 0.0627451\n",
      " 0.         0.         0.         0.         0.         0.\n",
      " 0.         0.         0.         0.         0.         0.\n",
      " 0.         0.         0.         0.         0.         0.\n",
      " 0.         0.         0.         0.         0.         0.\n",
      " 0.         0.         0.         0.         0.         0.\n",
      " 0.         0.         0.         0.         0.         0.\n",
      " 0.         0.         0.         0.         0.         0.\n",
      " 0.         0.         0.         0.         0.         0.\n",
      " 0.         0.         0.         0.         0.         0.\n",
      " 0.         0.         0.         0.         0.         0.\n",
      " 0.         0.         0.         0.         0.         0.\n",
      " 0.         0.         0.         0.         0.         0.\n",
      " 0.         0.         0.         0.         0.         0.\n",
      " 0.         0.         0.         0.         0.         0.\n",
      " 0.         0.         0.         0.         0.         0.\n",
      " 0.         0.         0.         0.         0.         0.\n",
      " 0.         0.         0.         0.        ]\n"
     ]
    }
   ],
   "source": [
    "print(X_train[0])"
   ]
  },
  {
   "cell_type": "code",
   "execution_count": 14,
   "metadata": {
    "colab": {},
    "colab_type": "code",
    "id": "n4br54-WcUYj"
   },
   "outputs": [],
   "source": [
    "X_test = X_test.reshape(X_test.shape[0], 784) # (60000,28,28) => (60000,784)\n",
    "X_test.astype('float64')\n",
    "X_test = X_test/255   # RGB 컬러값 0~255, 신경망의 값은 0~1 값이 적당해서 255로 나눠줌"
   ]
  },
  {
   "cell_type": "code",
   "execution_count": 15,
   "metadata": {
    "colab": {},
    "colab_type": "code",
    "id": "PSyPHyiLc_pf"
   },
   "outputs": [],
   "source": [
    "Y_train1 = np_utils.to_categorical(Y_train, 10)\n",
    "Y_test1 = np_utils.to_categorical(Y_test, 10)"
   ]
  },
  {
   "cell_type": "code",
   "execution_count": 16,
   "metadata": {
    "colab": {
     "base_uri": "https://localhost:8080/",
     "height": 34
    },
    "colab_type": "code",
    "executionInfo": {
     "elapsed": 721,
     "status": "ok",
     "timestamp": 1549098792559,
     "user": {
      "displayName": "Seok Jun Kim",
      "photoUrl": "",
      "userId": "04630978059815326870"
     },
     "user_tz": -540
    },
    "id": "mhO2ZyWge429",
    "outputId": "1e90d4f3-721e-4bfb-dafe-64208074502d"
   },
   "outputs": [
    {
     "name": "stdout",
     "output_type": "stream",
     "text": [
      "[5 0 4 1 9]\n"
     ]
    }
   ],
   "source": [
    "print(Y_train[0:5])"
   ]
  },
  {
   "cell_type": "code",
   "execution_count": 17,
   "metadata": {
    "colab": {
     "base_uri": "https://localhost:8080/",
     "height": 105
    },
    "colab_type": "code",
    "executionInfo": {
     "elapsed": 850,
     "status": "ok",
     "timestamp": 1549098825415,
     "user": {
      "displayName": "Seok Jun Kim",
      "photoUrl": "",
      "userId": "04630978059815326870"
     },
     "user_tz": -540
    },
    "id": "Z5ui-pFre7Mc",
    "outputId": "ab1d5494-b334-472b-fff1-a166dc3c542b"
   },
   "outputs": [
    {
     "data": {
      "text/plain": [
       "array([[0., 0., 0., 0., 0., 1., 0., 0., 0., 0.],\n",
       "       [1., 0., 0., 0., 0., 0., 0., 0., 0., 0.],\n",
       "       [0., 0., 0., 0., 1., 0., 0., 0., 0., 0.],\n",
       "       [0., 1., 0., 0., 0., 0., 0., 0., 0., 0.],\n",
       "       [0., 0., 0., 0., 0., 0., 0., 0., 0., 1.]], dtype=float32)"
      ]
     },
     "execution_count": 17,
     "metadata": {},
     "output_type": "execute_result"
    }
   ],
   "source": [
    "Y_train1[0:5] # one-hot encoding"
   ]
  },
  {
   "cell_type": "code",
   "execution_count": 18,
   "metadata": {
    "colab": {},
    "colab_type": "code",
    "id": "QIkBQ1DtfDML"
   },
   "outputs": [],
   "source": [
    "from keras.models import Sequential\n",
    "from keras.layers import Dense\n",
    "m = Sequential()"
   ]
  },
  {
   "cell_type": "code",
   "execution_count": 19,
   "metadata": {
    "colab": {},
    "colab_type": "code",
    "id": "Z_5msgkef_3M"
   },
   "outputs": [],
   "source": [
    "m.add(Dense(512, input_dim=784, activation='relu'))\n",
    "m.add(Dense(10, activation='softmax'))"
   ]
  },
  {
   "cell_type": "code",
   "execution_count": 20,
   "metadata": {
    "colab": {},
    "colab_type": "code",
    "id": "gIrMFoh9g2-o"
   },
   "outputs": [],
   "source": [
    "## 오차함수(categorical_crossentropy), 최적화함수:adam\n",
    "m.compile(loss=\"categorical_crossentropy\", optimizer = 'adam', metrics=['accuracy'])"
   ]
  },
  {
   "cell_type": "code",
   "execution_count": 21,
   "metadata": {
    "colab": {
     "base_uri": "https://localhost:8080/",
     "height": 34
    },
    "colab_type": "code",
    "executionInfo": {
     "elapsed": 2412,
     "status": "ok",
     "timestamp": 1549100511291,
     "user": {
      "displayName": "Seok Jun Kim",
      "photoUrl": "",
      "userId": "04630978059815326870"
     },
     "user_tz": -540
    },
    "id": "9ypd_TOFkfbV",
    "outputId": "9c4b70cd-e214-4f64-aaf5-bbceb685d660"
   },
   "outputs": [],
   "source": [
    "mkdir model"
   ]
  },
  {
   "cell_type": "code",
   "execution_count": 22,
   "metadata": {
    "colab": {},
    "colab_type": "code",
    "id": "beUcV9-pj-RL"
   },
   "outputs": [],
   "source": [
    "import os\n",
    "from keras.callbacks import ModelCheckpoint, EarlyStopping\n",
    "MODEL_DIR = './model/'\n",
    "if not os.path.exists(MODEL_DIR):\n",
    "    os.mkdir(MODEL_DIR)\n",
    "\n",
    "modelpath = \"./model/{epoch:02d}-{val_loss:.4f}.hdf5\"\n",
    "checkpointer = ModelCheckpoint(filepath=modelpath,\n",
    "            monitor='val_loss',\n",
    "            verbose=1, save_best_only=True)\n",
    "#10회 이상 성능향상이 없다면 중단하라\n",
    "early_stopping_callback = EarlyStopping(monitor='val_loss', patience=10)"
   ]
  },
  {
   "cell_type": "code",
   "execution_count": 23,
   "metadata": {
    "colab": {
     "base_uri": "https://localhost:8080/",
     "height": 1372
    },
    "colab_type": "code",
    "executionInfo": {
     "elapsed": 82884,
     "status": "ok",
     "timestamp": 1549100596720,
     "user": {
      "displayName": "Seok Jun Kim",
      "photoUrl": "",
      "userId": "04630978059815326870"
     },
     "user_tz": -540
    },
    "id": "phIBF6IRlLaR",
    "outputId": "69c72d05-d51a-43b4-e603-f610bf50c1ba"
   },
   "outputs": [
    {
     "name": "stdout",
     "output_type": "stream",
     "text": [
      "Train on 60000 samples, validate on 10000 samples\n",
      "Epoch 1/30\n",
      " - 6s - loss: 0.2998 - acc: 0.9165 - val_loss: 0.1555 - val_acc: 0.9539\n",
      "\n",
      "Epoch 00001: val_loss improved from inf to 0.15549, saving model to ./model/01-0.1555.hdf5\n",
      "Epoch 2/30\n",
      " - 5s - loss: 0.1249 - acc: 0.9639 - val_loss: 0.1052 - val_acc: 0.9691\n",
      "\n",
      "Epoch 00002: val_loss improved from 0.15549 to 0.10518, saving model to ./model/02-0.1052.hdf5\n",
      "Epoch 3/30\n",
      " - 5s - loss: 0.0823 - acc: 0.9762 - val_loss: 0.0851 - val_acc: 0.9744\n",
      "\n",
      "Epoch 00003: val_loss improved from 0.10518 to 0.08507, saving model to ./model/03-0.0851.hdf5\n",
      "Epoch 4/30\n",
      " - 5s - loss: 0.0610 - acc: 0.9824 - val_loss: 0.0800 - val_acc: 0.9745\n",
      "\n",
      "Epoch 00004: val_loss improved from 0.08507 to 0.08003, saving model to ./model/04-0.0800.hdf5\n",
      "Epoch 5/30\n",
      " - 5s - loss: 0.0458 - acc: 0.9869 - val_loss: 0.0673 - val_acc: 0.9792\n",
      "\n",
      "Epoch 00005: val_loss improved from 0.08003 to 0.06725, saving model to ./model/05-0.0673.hdf5\n",
      "Epoch 6/30\n",
      " - 5s - loss: 0.0344 - acc: 0.9906 - val_loss: 0.0639 - val_acc: 0.9802\n",
      "\n",
      "Epoch 00006: val_loss improved from 0.06725 to 0.06386, saving model to ./model/06-0.0639.hdf5\n",
      "Epoch 7/30\n",
      " - 5s - loss: 0.0260 - acc: 0.9935 - val_loss: 0.0702 - val_acc: 0.9785\n",
      "\n",
      "Epoch 00007: val_loss did not improve from 0.06386\n",
      "Epoch 8/30\n",
      " - 5s - loss: 0.0212 - acc: 0.9945 - val_loss: 0.0635 - val_acc: 0.9790\n",
      "\n",
      "Epoch 00008: val_loss improved from 0.06386 to 0.06346, saving model to ./model/08-0.0635.hdf5\n",
      "Epoch 9/30\n",
      " - 5s - loss: 0.0161 - acc: 0.9962 - val_loss: 0.0593 - val_acc: 0.9807\n",
      "\n",
      "Epoch 00009: val_loss improved from 0.06346 to 0.05931, saving model to ./model/09-0.0593.hdf5\n",
      "Epoch 10/30\n",
      " - 5s - loss: 0.0120 - acc: 0.9977 - val_loss: 0.0659 - val_acc: 0.9800\n",
      "\n",
      "Epoch 00010: val_loss did not improve from 0.05931\n",
      "Epoch 11/30\n",
      " - 6s - loss: 0.0102 - acc: 0.9982 - val_loss: 0.0676 - val_acc: 0.9785\n",
      "\n",
      "Epoch 00011: val_loss did not improve from 0.05931\n",
      "Epoch 12/30\n",
      " - 6s - loss: 0.0078 - acc: 0.9988 - val_loss: 0.0623 - val_acc: 0.9802\n",
      "\n",
      "Epoch 00012: val_loss did not improve from 0.05931\n",
      "Epoch 13/30\n",
      " - 6s - loss: 0.0050 - acc: 0.9994 - val_loss: 0.0670 - val_acc: 0.9806\n",
      "\n",
      "Epoch 00013: val_loss did not improve from 0.05931\n",
      "Epoch 14/30\n",
      " - 6s - loss: 0.0044 - acc: 0.9996 - val_loss: 0.0659 - val_acc: 0.9813\n",
      "\n",
      "Epoch 00014: val_loss did not improve from 0.05931\n",
      "Epoch 15/30\n",
      " - 5s - loss: 0.0035 - acc: 0.9995 - val_loss: 0.0640 - val_acc: 0.9810\n",
      "\n",
      "Epoch 00015: val_loss did not improve from 0.05931\n",
      "Epoch 16/30\n",
      " - 5s - loss: 0.0038 - acc: 0.9995 - val_loss: 0.0666 - val_acc: 0.9814\n",
      "\n",
      "Epoch 00016: val_loss did not improve from 0.05931\n",
      "Epoch 17/30\n",
      " - 6s - loss: 0.0033 - acc: 0.9995 - val_loss: 0.0770 - val_acc: 0.9782\n",
      "\n",
      "Epoch 00017: val_loss did not improve from 0.05931\n",
      "Epoch 18/30\n",
      " - 5s - loss: 0.0120 - acc: 0.9963 - val_loss: 0.0749 - val_acc: 0.9799\n",
      "\n",
      "Epoch 00018: val_loss did not improve from 0.05931\n",
      "Epoch 19/30\n",
      " - 5s - loss: 0.0038 - acc: 0.9994 - val_loss: 0.0711 - val_acc: 0.9815\n",
      "\n",
      "Epoch 00019: val_loss did not improve from 0.05931\n"
     ]
    }
   ],
   "source": [
    "###샘플 200, 모두 30번 실행,\n",
    "history = m.fit(X_train, Y_train1, validation_data=(X_test, Y_test1),\n",
    "                    epochs=30,\n",
    "                    batch_size=200,\n",
    "                    verbose=2,\n",
    "                    callbacks=[early_stopping_callback, checkpointer])"
   ]
  },
  {
   "cell_type": "code",
   "execution_count": 24,
   "metadata": {
    "colab": {
     "base_uri": "https://localhost:8080/",
     "height": 70
    },
    "colab_type": "code",
    "executionInfo": {
     "elapsed": 983,
     "status": "ok",
     "timestamp": 1549100698555,
     "user": {
      "displayName": "Seok Jun Kim",
      "photoUrl": "",
      "userId": "04630978059815326870"
     },
     "user_tz": -540
    },
    "id": "0uksuBhrlfm1",
    "outputId": "1b46b61c-e937-41c3-e56b-89a8d738809a"
   },
   "outputs": [
    {
     "name": "stdout",
     "output_type": "stream",
     "text": [
      "10000/10000 [==============================] - 1s 108us/step\n",
      "\n",
      "Acuuracy: 0.9815\n"
     ]
    }
   ],
   "source": [
    "print('\\nAcuuracy: {:.4f}'.format(m.evaluate(X_test, Y_test1)[1]))"
   ]
  }
 ],
 "metadata": {
  "colab": {
   "collapsed_sections": [],
   "name": "class_deepLearning_ann.ipynb",
   "provenance": [],
   "version": "0.3.2"
  },
  "kernelspec": {
   "display_name": "Python 3",
   "language": "python",
   "name": "python3"
  },
  "language_info": {
   "codemirror_mode": {
    "name": "ipython",
    "version": 3
   },
   "file_extension": ".py",
   "mimetype": "text/x-python",
   "name": "python",
   "nbconvert_exporter": "python",
   "pygments_lexer": "ipython3",
   "version": "3.6.5"
  }
 },
 "nbformat": 4,
 "nbformat_minor": 1
}
